{
 "cells": [
  {
   "cell_type": "code",
   "execution_count": 1,
   "metadata": {},
   "outputs": [],
   "source": [
    "import pandas as pd\n",
    "import numpy as np\n",
    "import networkx as nx\n",
    "import matplotlib.pyplot as plt\n",
    "%matplotlib inline"
   ]
  },
  {
   "cell_type": "code",
   "execution_count": 2,
   "metadata": {},
   "outputs": [],
   "source": [
    "df = pd.read_csv('electronics_final.csv', header = 0)"
   ]
  },
  {
   "cell_type": "code",
   "execution_count": 3,
   "metadata": {},
   "outputs": [
    {
     "name": "stdout",
     "output_type": "stream",
     "text": [
      "dataset dimensions are: (2006, 10)\n"
     ]
    },
    {
     "data": {
      "text/html": [
       "<div>\n",
       "<style scoped>\n",
       "    .dataframe tbody tr th:only-of-type {\n",
       "        vertical-align: middle;\n",
       "    }\n",
       "\n",
       "    .dataframe tbody tr th {\n",
       "        vertical-align: top;\n",
       "    }\n",
       "\n",
       "    .dataframe thead th {\n",
       "        text-align: right;\n",
       "    }\n",
       "</style>\n",
       "<table border=\"1\" class=\"dataframe\">\n",
       "  <thead>\n",
       "    <tr style=\"text-align: right;\">\n",
       "      <th></th>\n",
       "      <th>Product_code</th>\n",
       "      <th>Product_name</th>\n",
       "      <th>Product_description</th>\n",
       "      <th>Product_URL</th>\n",
       "      <th>Breadcrumb_parent</th>\n",
       "      <th>Breadcrumb_active</th>\n",
       "      <th>Product_price</th>\n",
       "      <th>Rating_Value</th>\n",
       "      <th>Rating_Count</th>\n",
       "      <th>Recommended_Prods</th>\n",
       "    </tr>\n",
       "  </thead>\n",
       "  <tbody>\n",
       "    <tr>\n",
       "      <th>count</th>\n",
       "      <td>2006</td>\n",
       "      <td>2006</td>\n",
       "      <td>1640</td>\n",
       "      <td>2006</td>\n",
       "      <td>2006</td>\n",
       "      <td>2006</td>\n",
       "      <td>2006</td>\n",
       "      <td>2006.000000</td>\n",
       "      <td>2006</td>\n",
       "      <td>2006</td>\n",
       "    </tr>\n",
       "    <tr>\n",
       "      <th>unique</th>\n",
       "      <td>1968</td>\n",
       "      <td>1957</td>\n",
       "      <td>1569</td>\n",
       "      <td>1968</td>\n",
       "      <td>16</td>\n",
       "      <td>255</td>\n",
       "      <td>1077</td>\n",
       "      <td>NaN</td>\n",
       "      <td>370</td>\n",
       "      <td>1611</td>\n",
       "    </tr>\n",
       "    <tr>\n",
       "      <th>top</th>\n",
       "      <td>4655HRO97D87</td>\n",
       "      <td>SAMSUNG 65\" Class 4K UHD (2160P) the Frame QLE...</td>\n",
       "      <td>Enter a world saturated with color and sharpen...</td>\n",
       "      <td>https://walmart.com/ip/4655HRO97D87</td>\n",
       "      <td>Electronics</td>\n",
       "      <td>/Digital SLR Cameras</td>\n",
       "      <td>$99.00</td>\n",
       "      <td>NaN</td>\n",
       "      <td>0 ratings</td>\n",
       "      <td>['Not available']</td>\n",
       "    </tr>\n",
       "    <tr>\n",
       "      <th>freq</th>\n",
       "      <td>5</td>\n",
       "      <td>5</td>\n",
       "      <td>6</td>\n",
       "      <td>5</td>\n",
       "      <td>1616</td>\n",
       "      <td>233</td>\n",
       "      <td>22</td>\n",
       "      <td>NaN</td>\n",
       "      <td>450</td>\n",
       "      <td>379</td>\n",
       "    </tr>\n",
       "    <tr>\n",
       "      <th>mean</th>\n",
       "      <td>NaN</td>\n",
       "      <td>NaN</td>\n",
       "      <td>NaN</td>\n",
       "      <td>NaN</td>\n",
       "      <td>NaN</td>\n",
       "      <td>NaN</td>\n",
       "      <td>NaN</td>\n",
       "      <td>3.115105</td>\n",
       "      <td>NaN</td>\n",
       "      <td>NaN</td>\n",
       "    </tr>\n",
       "    <tr>\n",
       "      <th>std</th>\n",
       "      <td>NaN</td>\n",
       "      <td>NaN</td>\n",
       "      <td>NaN</td>\n",
       "      <td>NaN</td>\n",
       "      <td>NaN</td>\n",
       "      <td>NaN</td>\n",
       "      <td>NaN</td>\n",
       "      <td>1.838493</td>\n",
       "      <td>NaN</td>\n",
       "      <td>NaN</td>\n",
       "    </tr>\n",
       "    <tr>\n",
       "      <th>min</th>\n",
       "      <td>NaN</td>\n",
       "      <td>NaN</td>\n",
       "      <td>NaN</td>\n",
       "      <td>NaN</td>\n",
       "      <td>NaN</td>\n",
       "      <td>NaN</td>\n",
       "      <td>NaN</td>\n",
       "      <td>0.000000</td>\n",
       "      <td>NaN</td>\n",
       "      <td>NaN</td>\n",
       "    </tr>\n",
       "    <tr>\n",
       "      <th>25%</th>\n",
       "      <td>NaN</td>\n",
       "      <td>NaN</td>\n",
       "      <td>NaN</td>\n",
       "      <td>NaN</td>\n",
       "      <td>NaN</td>\n",
       "      <td>NaN</td>\n",
       "      <td>NaN</td>\n",
       "      <td>1.850000</td>\n",
       "      <td>NaN</td>\n",
       "      <td>NaN</td>\n",
       "    </tr>\n",
       "    <tr>\n",
       "      <th>50%</th>\n",
       "      <td>NaN</td>\n",
       "      <td>NaN</td>\n",
       "      <td>NaN</td>\n",
       "      <td>NaN</td>\n",
       "      <td>NaN</td>\n",
       "      <td>NaN</td>\n",
       "      <td>NaN</td>\n",
       "      <td>4.000000</td>\n",
       "      <td>NaN</td>\n",
       "      <td>NaN</td>\n",
       "    </tr>\n",
       "    <tr>\n",
       "      <th>75%</th>\n",
       "      <td>NaN</td>\n",
       "      <td>NaN</td>\n",
       "      <td>NaN</td>\n",
       "      <td>NaN</td>\n",
       "      <td>NaN</td>\n",
       "      <td>NaN</td>\n",
       "      <td>NaN</td>\n",
       "      <td>4.500000</td>\n",
       "      <td>NaN</td>\n",
       "      <td>NaN</td>\n",
       "    </tr>\n",
       "    <tr>\n",
       "      <th>max</th>\n",
       "      <td>NaN</td>\n",
       "      <td>NaN</td>\n",
       "      <td>NaN</td>\n",
       "      <td>NaN</td>\n",
       "      <td>NaN</td>\n",
       "      <td>NaN</td>\n",
       "      <td>NaN</td>\n",
       "      <td>5.000000</td>\n",
       "      <td>NaN</td>\n",
       "      <td>NaN</td>\n",
       "    </tr>\n",
       "  </tbody>\n",
       "</table>\n",
       "</div>"
      ],
      "text/plain": [
       "        Product_code                                       Product_name  \\\n",
       "count           2006                                               2006   \n",
       "unique          1968                                               1957   \n",
       "top     4655HRO97D87  SAMSUNG 65\" Class 4K UHD (2160P) the Frame QLE...   \n",
       "freq               5                                                  5   \n",
       "mean             NaN                                                NaN   \n",
       "std              NaN                                                NaN   \n",
       "min              NaN                                                NaN   \n",
       "25%              NaN                                                NaN   \n",
       "50%              NaN                                                NaN   \n",
       "75%              NaN                                                NaN   \n",
       "max              NaN                                                NaN   \n",
       "\n",
       "                                      Product_description  \\\n",
       "count                                                1640   \n",
       "unique                                               1569   \n",
       "top     Enter a world saturated with color and sharpen...   \n",
       "freq                                                    6   \n",
       "mean                                                  NaN   \n",
       "std                                                   NaN   \n",
       "min                                                   NaN   \n",
       "25%                                                   NaN   \n",
       "50%                                                   NaN   \n",
       "75%                                                   NaN   \n",
       "max                                                   NaN   \n",
       "\n",
       "                                Product_URL Breadcrumb_parent  \\\n",
       "count                                  2006              2006   \n",
       "unique                                 1968                16   \n",
       "top     https://walmart.com/ip/4655HRO97D87       Electronics   \n",
       "freq                                      5              1616   \n",
       "mean                                    NaN               NaN   \n",
       "std                                     NaN               NaN   \n",
       "min                                     NaN               NaN   \n",
       "25%                                     NaN               NaN   \n",
       "50%                                     NaN               NaN   \n",
       "75%                                     NaN               NaN   \n",
       "max                                     NaN               NaN   \n",
       "\n",
       "           Breadcrumb_active Product_price  Rating_Value Rating_Count  \\\n",
       "count                   2006          2006   2006.000000         2006   \n",
       "unique                   255          1077           NaN          370   \n",
       "top     /Digital SLR Cameras        $99.00           NaN    0 ratings   \n",
       "freq                     233            22           NaN          450   \n",
       "mean                     NaN           NaN      3.115105          NaN   \n",
       "std                      NaN           NaN      1.838493          NaN   \n",
       "min                      NaN           NaN      0.000000          NaN   \n",
       "25%                      NaN           NaN      1.850000          NaN   \n",
       "50%                      NaN           NaN      4.000000          NaN   \n",
       "75%                      NaN           NaN      4.500000          NaN   \n",
       "max                      NaN           NaN      5.000000          NaN   \n",
       "\n",
       "        Recommended_Prods  \n",
       "count                2006  \n",
       "unique               1611  \n",
       "top     ['Not available']  \n",
       "freq                  379  \n",
       "mean                  NaN  \n",
       "std                   NaN  \n",
       "min                   NaN  \n",
       "25%                   NaN  \n",
       "50%                   NaN  \n",
       "75%                   NaN  \n",
       "max                   NaN  "
      ]
     },
     "execution_count": 3,
     "metadata": {},
     "output_type": "execute_result"
    }
   ],
   "source": [
    "print('dataset dimensions are:', df.shape)\n",
    "df.describe(include = 'all')"
   ]
  },
  {
   "cell_type": "code",
   "execution_count": 4,
   "metadata": {},
   "outputs": [
    {
     "data": {
      "text/html": [
       "<div>\n",
       "<style scoped>\n",
       "    .dataframe tbody tr th:only-of-type {\n",
       "        vertical-align: middle;\n",
       "    }\n",
       "\n",
       "    .dataframe tbody tr th {\n",
       "        vertical-align: top;\n",
       "    }\n",
       "\n",
       "    .dataframe thead th {\n",
       "        text-align: right;\n",
       "    }\n",
       "</style>\n",
       "<table border=\"1\" class=\"dataframe\">\n",
       "  <thead>\n",
       "    <tr style=\"text-align: right;\">\n",
       "      <th></th>\n",
       "      <th>Product_code</th>\n",
       "      <th>Product_name</th>\n",
       "      <th>Product_description</th>\n",
       "      <th>Product_URL</th>\n",
       "      <th>Breadcrumb_parent</th>\n",
       "      <th>Breadcrumb_active</th>\n",
       "      <th>Product_price</th>\n",
       "      <th>Rating_Value</th>\n",
       "      <th>Rating_Count</th>\n",
       "      <th>Recommended_Prods</th>\n",
       "    </tr>\n",
       "  </thead>\n",
       "  <tbody>\n",
       "    <tr>\n",
       "      <th>0</th>\n",
       "      <td>35X5YDKAGYGK</td>\n",
       "      <td>RCA 50\" Class 4K Ultra HD (2160P) LED TV (RLDE...</td>\n",
       "      <td>The RCA 50\" 2160p Class 4K Ultra High-Definiti...</td>\n",
       "      <td>https://walmart.com/ip/35X5YDKAGYGK</td>\n",
       "      <td>Electronics</td>\n",
       "      <td>/All TVs</td>\n",
       "      <td>$219.99</td>\n",
       "      <td>3.9</td>\n",
       "      <td>1254 ratings</td>\n",
       "      <td>['5YZBEUJO11MO', '1CFXZI1QNUKO', '6SA8LLNNSLMP...</td>\n",
       "    </tr>\n",
       "    <tr>\n",
       "      <th>1</th>\n",
       "      <td>2RKSQC7C8QKZ</td>\n",
       "      <td>RCA 55\" Class 4K Ultra HD (2160P) HDR Roku Sma...</td>\n",
       "      <td>Enjoying 4K Ultra HD just got easier. RCA Roku...</td>\n",
       "      <td>https://walmart.com/ip/2RKSQC7C8QKZ</td>\n",
       "      <td>Electronics</td>\n",
       "      <td>/All TVs</td>\n",
       "      <td>$279.99</td>\n",
       "      <td>4.2</td>\n",
       "      <td>595 ratings</td>\n",
       "      <td>['1CFXZI1QNUKO', '2X3MQ9SM84AA', '6SA8LLNNSLMP...</td>\n",
       "    </tr>\n",
       "    <tr>\n",
       "      <th>2</th>\n",
       "      <td>4U07UQJGM4NA</td>\n",
       "      <td>LG 65\" Class 4K UHD 2160P Smart TV 65UN7300PUF...</td>\n",
       "      <td>Empower entertainment with LG UHD TV. LG's UHD...</td>\n",
       "      <td>https://walmart.com/ip/4U07UQJGM4NA</td>\n",
       "      <td>Electronics</td>\n",
       "      <td>/All TVs</td>\n",
       "      <td>$646.99</td>\n",
       "      <td>4.3</td>\n",
       "      <td>154 ratings</td>\n",
       "      <td>['2MJRWZI33VET', '46VQULKOD37S', '2Z0G09Y8QKOL...</td>\n",
       "    </tr>\n",
       "    <tr>\n",
       "      <th>3</th>\n",
       "      <td>75BV5KCCV6DE</td>\n",
       "      <td>SAMSUNG 70\" Class 4K Crystal UHD (2160P) LED S...</td>\n",
       "      <td>This smart TV unlocks hidden detail at four ti...</td>\n",
       "      <td>https://walmart.com/ip/75BV5KCCV6DE</td>\n",
       "      <td>Electronics</td>\n",
       "      <td>/All TVs</td>\n",
       "      <td>$947.00</td>\n",
       "      <td>4.4</td>\n",
       "      <td>2843 ratings</td>\n",
       "      <td>['46VQULKOD37S', '5NGD72QFL38K', '3YFRMHEUUEZD...</td>\n",
       "    </tr>\n",
       "    <tr>\n",
       "      <th>4</th>\n",
       "      <td>7K3V50QQP6XT</td>\n",
       "      <td>TCL 32\" Class 1080P FHD LED Roku Smart TV 3 Se...</td>\n",
       "      <td>The 3-Series TCL Roku TV puts all your enterta...</td>\n",
       "      <td>https://walmart.com/ip/7K3V50QQP6XT</td>\n",
       "      <td>Electronics</td>\n",
       "      <td>/All TVs</td>\n",
       "      <td>$149.99</td>\n",
       "      <td>4.4</td>\n",
       "      <td>208 ratings</td>\n",
       "      <td>['2Z3IRIL1ATIA', '60R8ZDOQCUAS', '5HF3T8I5XH2A...</td>\n",
       "    </tr>\n",
       "  </tbody>\n",
       "</table>\n",
       "</div>"
      ],
      "text/plain": [
       "   Product_code                                       Product_name  \\\n",
       "0  35X5YDKAGYGK  RCA 50\" Class 4K Ultra HD (2160P) LED TV (RLDE...   \n",
       "1  2RKSQC7C8QKZ  RCA 55\" Class 4K Ultra HD (2160P) HDR Roku Sma...   \n",
       "2  4U07UQJGM4NA  LG 65\" Class 4K UHD 2160P Smart TV 65UN7300PUF...   \n",
       "3  75BV5KCCV6DE  SAMSUNG 70\" Class 4K Crystal UHD (2160P) LED S...   \n",
       "4  7K3V50QQP6XT  TCL 32\" Class 1080P FHD LED Roku Smart TV 3 Se...   \n",
       "\n",
       "                                 Product_description  \\\n",
       "0  The RCA 50\" 2160p Class 4K Ultra High-Definiti...   \n",
       "1  Enjoying 4K Ultra HD just got easier. RCA Roku...   \n",
       "2  Empower entertainment with LG UHD TV. LG's UHD...   \n",
       "3  This smart TV unlocks hidden detail at four ti...   \n",
       "4  The 3-Series TCL Roku TV puts all your enterta...   \n",
       "\n",
       "                           Product_URL Breadcrumb_parent Breadcrumb_active  \\\n",
       "0  https://walmart.com/ip/35X5YDKAGYGK       Electronics          /All TVs   \n",
       "1  https://walmart.com/ip/2RKSQC7C8QKZ       Electronics          /All TVs   \n",
       "2  https://walmart.com/ip/4U07UQJGM4NA       Electronics          /All TVs   \n",
       "3  https://walmart.com/ip/75BV5KCCV6DE       Electronics          /All TVs   \n",
       "4  https://walmart.com/ip/7K3V50QQP6XT       Electronics          /All TVs   \n",
       "\n",
       "  Product_price  Rating_Value  Rating_Count  \\\n",
       "0       $219.99           3.9  1254 ratings   \n",
       "1       $279.99           4.2   595 ratings   \n",
       "2       $646.99           4.3   154 ratings   \n",
       "3       $947.00           4.4  2843 ratings   \n",
       "4       $149.99           4.4   208 ratings   \n",
       "\n",
       "                                   Recommended_Prods  \n",
       "0  ['5YZBEUJO11MO', '1CFXZI1QNUKO', '6SA8LLNNSLMP...  \n",
       "1  ['1CFXZI1QNUKO', '2X3MQ9SM84AA', '6SA8LLNNSLMP...  \n",
       "2  ['2MJRWZI33VET', '46VQULKOD37S', '2Z0G09Y8QKOL...  \n",
       "3  ['46VQULKOD37S', '5NGD72QFL38K', '3YFRMHEUUEZD...  \n",
       "4  ['2Z3IRIL1ATIA', '60R8ZDOQCUAS', '5HF3T8I5XH2A...  "
      ]
     },
     "execution_count": 4,
     "metadata": {},
     "output_type": "execute_result"
    }
   ],
   "source": [
    "df.head()"
   ]
  },
  {
   "cell_type": "code",
   "execution_count": 5,
   "metadata": {},
   "outputs": [],
   "source": [
    "#Let's take a smaller set of the data to speed up computations for this example\n",
    "df_sample = df.iloc[:2006] "
   ]
  },
  {
   "cell_type": "code",
   "execution_count": 6,
   "metadata": {},
   "outputs": [],
   "source": [
    "rec_prods_ids = []\n",
    "for i in range(len(df_sample.Product_code)):\n",
    "    xx = df_sample.Recommended_Prods[i]\n",
    "    for j in range(int(len(xx)/16)):\n",
    "        rec_prods_ids.append(xx[16*j+2:16*j+14])"
   ]
  },
  {
   "cell_type": "code",
   "execution_count": 7,
   "metadata": {},
   "outputs": [],
   "source": [
    "pr_code = df_sample.Product_code"
   ]
  },
  {
   "cell_type": "code",
   "execution_count": 8,
   "metadata": {},
   "outputs": [],
   "source": [
    "pr = []\n",
    "for i in range(len(pr_code)):\n",
    "    pr.append(pr_code[i])"
   ]
  },
  {
   "cell_type": "code",
   "execution_count": 9,
   "metadata": {},
   "outputs": [
    {
     "data": {
      "text/plain": [
       "922"
      ]
     },
     "execution_count": 9,
     "metadata": {},
     "output_type": "execute_result"
    }
   ],
   "source": [
    "a = set(rec_prods_ids) & set(pr)\n",
    "len(a)"
   ]
  },
  {
   "cell_type": "code",
   "execution_count": 10,
   "metadata": {},
   "outputs": [],
   "source": [
    "coef_mat = np.zeros((len(pr_code), len(pr_code)))\n",
    "for i in range(len(pr_code)):\n",
    "    rec_prods_ids_ind = []\n",
    "    xx = df_sample.Recommended_Prods[i]\n",
    "    for j in range(int(len(xx)/16)):\n",
    "        rec_prods_ids_ind.append(xx[16*j+2:16*j+14])\n",
    "    b = set(rec_prods_ids_ind) & set(a)\n",
    "    if len(b)>0:\n",
    "        both = set(pr).intersection(b)\n",
    "        ind = [pr.index(x) for x in both]\n",
    "        coef_mat[i,ind] = 1"
   ]
  },
  {
   "cell_type": "code",
   "execution_count": 11,
   "metadata": {},
   "outputs": [
    {
     "data": {
      "text/plain": [
       "array([[0., 1., 0., ..., 0., 0., 0.],\n",
       "       [0., 0., 0., ..., 0., 0., 0.],\n",
       "       [0., 0., 0., ..., 0., 0., 0.],\n",
       "       ...,\n",
       "       [0., 0., 0., ..., 0., 0., 0.],\n",
       "       [0., 0., 0., ..., 0., 0., 0.],\n",
       "       [0., 0., 0., ..., 0., 0., 0.]])"
      ]
     },
     "execution_count": 11,
     "metadata": {},
     "output_type": "execute_result"
    }
   ],
   "source": [
    "coef_mat"
   ]
  },
  {
   "cell_type": "code",
   "execution_count": null,
   "metadata": {},
   "outputs": [],
   "source": [
    "#Data pre-processing \n",
    "\n",
    "#Delete rows with no Customer ID (if there is such a case)\n",
    "cleaned_retail = df_sample.loc[pd.isnull(df_sample.Product_code) == False]\n",
    "\n",
    "#Create a lookup table\n",
    "item_lookup = cleaned_retail[['Breadcrumb_parent', 'Breadcrumb_active']].drop_duplicates()\n",
    "item_lookup['Breadcrumb_parent'] = item_lookup.Breadcrumb_parent.astype(str)"
   ]
  },
  {
   "cell_type": "code",
   "execution_count": null,
   "metadata": {},
   "outputs": [],
   "source": [
    "item_lookup"
   ]
  },
  {
   "cell_type": "code",
   "execution_count": null,
   "metadata": {},
   "outputs": [],
   "source": [
    "#Do some 'data cleaning' to raw data\n",
    "# cleaned_retail['CustomerID'] = cleaned_retail.CustomerID.astype(int)\n",
    "# cleaned_retail = cleaned_retail[['StockCode', 'Quantity', 'CustomerID']]\n",
    "grouped_cleaned = cleaned_retail.groupby(['CustomerID', 'StockCode']).sum().reset_index()\n",
    "grouped_cleaned.Quantity.loc[grouped_cleaned.Quantity == 0] = 1\n",
    "grouped_purchased = grouped_cleaned.query('Quantity > 0')"
   ]
  },
  {
   "cell_type": "code",
   "execution_count": null,
   "metadata": {},
   "outputs": [],
   "source": [
    "#Count number of products and number of customers in the reduced dataset \n",
    "no_products = len(grouped_purchased.StockCode.unique())\n",
    "no_customers = len(grouped_purchased.CustomerID.unique())\n",
    "print('Number of customers in dataset:', no_customers)\n",
    "print('Number of products in dataset:', no_products)"
   ]
  },
  {
   "cell_type": "code",
   "execution_count": null,
   "metadata": {},
   "outputs": [],
   "source": [
    "#Turn raw data to pivot ('ratings' matrix)\n",
    "ratings = grouped_purchased.pivot(index = 'CustomerID', columns='StockCode', values='Quantity').fillna(0).astype('int')\n",
    "#Binarize the ratings matrix (indicate only if a customer has purchased a product or not)\n",
    "ratings_binary = ratings.copy()\n",
    "ratings_binary[ratings_binary != 0] = 1"
   ]
  },
  {
   "cell_type": "code",
   "execution_count": null,
   "metadata": {},
   "outputs": [],
   "source": [
    "#Initialize zeros dataframe for product interactions\n",
    "products_integer = np.zeros((no_products,no_products))\n",
    "\n",
    "#Count how many times each product pair has been purchased\n",
    "print('Counting how many times each pair of products has been purchased...')\n",
    "for i in range(no_products):\n",
    "    for j in range(no_products):\n",
    "        if i != j:\n",
    "            df_ij = ratings_binary.iloc[:,[i,j]] #create a temporary df with only i and j products as columns\n",
    "            sum_ij = df_ij.sum(axis=1)\n",
    "            pairings_ij = len(sum_ij[sum_ij == 2]) #if s1_ij == 2 it means that both products were purchased by the same customer\n",
    "            products_integer[i,j] = pairings_ij\n",
    "            products_integer[j,i] = pairings_ij"
   ]
  },
  {
   "cell_type": "code",
   "execution_count": null,
   "metadata": {},
   "outputs": [],
   "source": [
    "#Count how many customers have purchased each item\n",
    "print('Counting how many times each individual product has been purchased...')\n",
    "times_purchased = products_integer.sum(axis = 1)"
   ]
  },
  {
   "cell_type": "code",
   "execution_count": null,
   "metadata": {},
   "outputs": [],
   "source": [
    "#Construct final weighted matrix of item interactions\n",
    "print('Building weighted product matrix...')\n",
    "products_weighted = np.zeros((no_products,no_products))\n",
    "for i in range(no_products):\n",
    "    for j in range(no_products):\n",
    "        if (times_purchased[i]+times_purchased[j]) !=0: #make sure you do not divide with zero\n",
    "            products_weighted[i,j] = (products_integer[i,j])/(times_purchased[i]+times_purchased[j])"
   ]
  },
  {
   "cell_type": "code",
   "execution_count": null,
   "metadata": {},
   "outputs": [],
   "source": [
    "#Get list of item labels (instead of Codes)\n",
    "nodes_codes = np.array(ratings_binary.columns).astype('str')\n",
    "item_lookup_dict = pd.Series(item_lookup.Description.values,index=item_lookup.StockCode).to_dict()\n",
    "nodes_labels = [item_lookup_dict[code] for code in nodes_codes]"
   ]
  },
  {
   "cell_type": "code",
   "execution_count": null,
   "metadata": {},
   "outputs": [],
   "source": [
    "#Create Graph object using the weighted product matrix as adjacency matrix\n",
    "G = nx.from_numpy_matrix(products_weighted)\n",
    "pos=nx.random_layout(G)\n",
    "labels = {}\n",
    "for idx, node in enumerate(G.nodes()):\n",
    "    labels[node] = nodes_labels[idx]\n",
    "\n",
    "nx.draw_networkx_nodes(G, pos , node_color=\"skyblue\", node_size=30)\n",
    "nx.draw_networkx_edges(G, pos,  edge_color='k', width= 0.3, alpha= 0.5)\n",
    "nx.draw_networkx_labels(G, pos, labels, font_size=4)\n",
    "plt.axis('off')\n",
    "plt.show() # display"
   ]
  },
  {
   "cell_type": "code",
   "execution_count": null,
   "metadata": {},
   "outputs": [],
   "source": [
    "#Export graph to Gephi\n",
    "H=nx.relabel_nodes(G,labels) #create a new graph with Description labels and save to Gephi for visualizations\n",
    "nx.write_gexf(H, \"products.gexf\")"
   ]
  },
  {
   "cell_type": "code",
   "execution_count": null,
   "metadata": {},
   "outputs": [],
   "source": [
    "#Find communities of nodes (products)\n",
    "partition = community_louvain.best_partition(G, resolution = 1.5)\n",
    "values = list(partition.values())"
   ]
  },
  {
   "cell_type": "code",
   "execution_count": null,
   "metadata": {},
   "outputs": [],
   "source": [
    "#Check how many communities were created\n",
    "print('Number of communities:', len(np.unique(values)))"
   ]
  },
  {
   "cell_type": "code",
   "execution_count": null,
   "metadata": {},
   "outputs": [],
   "source": [
    "#Create dataframe with product description and community id\n",
    "products_communities = pd.DataFrame(nodes_labels, columns = ['product_description'])\n",
    "products_communities['community_id'] = values"
   ]
  },
  {
   "cell_type": "code",
   "execution_count": null,
   "metadata": {},
   "outputs": [],
   "source": [
    "#Lets take a peek at community 1\n",
    "products_communities[products_communities['community_id']==1].head(15)"
   ]
  },
  {
   "cell_type": "code",
   "execution_count": null,
   "metadata": {},
   "outputs": [],
   "source": []
  }
 ],
 "metadata": {
  "kernelspec": {
   "display_name": "Python 3",
   "language": "python",
   "name": "python3"
  },
  "language_info": {
   "codemirror_mode": {
    "name": "ipython",
    "version": 3
   },
   "file_extension": ".py",
   "mimetype": "text/x-python",
   "name": "python",
   "nbconvert_exporter": "python",
   "pygments_lexer": "ipython3",
   "version": "3.7.8"
  }
 },
 "nbformat": 4,
 "nbformat_minor": 2
}
