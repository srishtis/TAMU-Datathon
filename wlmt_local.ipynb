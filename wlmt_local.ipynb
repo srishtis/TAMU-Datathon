{
 "metadata": {
  "language_info": {
   "codemirror_mode": {
    "name": "ipython",
    "version": 3
   },
   "file_extension": ".py",
   "mimetype": "text/x-python",
   "name": "python",
   "nbconvert_exporter": "python",
   "pygments_lexer": "ipython3",
   "version": "3.7.8-final"
  },
  "orig_nbformat": 2,
  "kernelspec": {
   "name": "Python 3.7.8 64-bit ('venv')",
   "display_name": "Python 3.7.8 64-bit ('venv')",
   "metadata": {
    "interpreter": {
     "hash": "528afb7fd51f4f3b24cdc86b304189ee87aeaaf25ddaeb411ee76df0c9b72f4b"
    }
   }
  }
 },
 "nbformat": 4,
 "nbformat_minor": 2,
 "cells": [
  {
   "cell_type": "code",
   "execution_count": 12,
   "metadata": {},
   "outputs": [],
   "source": [
    "import os\n",
    "import selenium.webdriver\n",
    "import csv\n",
    "import time\n",
    "import pandas as pd\n",
    "from selenium.webdriver import Safari\n",
    "from bs4 import BeautifulSoup\n",
    "from selenium.webdriver.support.ui import WebDriverWait\n",
    "from selenium.webdriver.common.by import By\n",
    "from selenium.webdriver.support import expected_conditions as EC"
   ]
  },
  {
   "cell_type": "code",
   "execution_count": 13,
   "metadata": {},
   "outputs": [],
   "source": [
    "url1= \"https://walmart.com/ip\""
   ]
  },
  {
   "cell_type": "code",
   "execution_count": 14,
   "metadata": {},
   "outputs": [],
   "source": [
    "top_n= [\"1\"]\n",
    "final_results = []\n",
    "for i in range(len(top_n)):\n",
    "    url_cat=\"https://www.walmart.com/browse/prepaid-phones/1105910_4527935_1072335\"+\"?page=\"+top_n[i]\n",
    "    driver= Safari()\n",
    "    driver.get(url_cat)\n",
    "    body_cat = driver.find_element_by_tag_name(\"body\").get_attribute(\"innerHTML\")\n",
    "    driver.quit()\n",
    "    soupBody_cat = BeautifulSoup(body_cat)\n",
    "    for tmp in soupBody_cat.find_all('div', {'class':'search-result-gridview-item-wrapper'}):\n",
    "\n",
    "        final_results.append(tmp['data-id'])"
   ]
  },
  {
   "cell_type": "code",
   "execution_count": 16,
   "metadata": {},
   "outputs": [
    {
     "output_type": "stream",
     "name": "stdout",
     "text": [
      "40\n"
     ]
    }
   ],
   "source": [
    "print(len(final_results))\n",
    "\n",
    "codelist=final_results"
   ]
  },
  {
   "cell_type": "code",
   "execution_count": 17,
   "metadata": {},
   "outputs": [
    {
     "output_type": "execute_result",
     "data": {
      "text/plain": [
       "['2DREJ789N6RK',\n",
       " '6HNKMP7G4XYH',\n",
       " '1S2L7JCWDJ60',\n",
       " '6E2PDBGWIK3R',\n",
       " '4ZXEAMSZDO7R',\n",
       " '5ZGBK7DY09FR',\n",
       " '7DA7JHJYX54W',\n",
       " '1EVXKM5UUN0N',\n",
       " '39LAJMDQKXSI',\n",
       " '4TENT7IJPA5E',\n",
       " '37XH89K3YGG5',\n",
       " '6X83NAD8WGFS',\n",
       " '1CE3VDRBURF0',\n",
       " '3JK1MS54NAXI',\n",
       " '5DH01ZJHPJSH',\n",
       " '51OZEOKSMM28',\n",
       " '43OASEN9OUVK',\n",
       " '2JW6CKVPSMA9',\n",
       " '51I6DELX9LD4',\n",
       " '5Q052V7V3EXT',\n",
       " '1P0X0A45WRS1',\n",
       " '0VWSIOCWZD58',\n",
       " '3X3CZTSAH2EO',\n",
       " '3OP7LEBCXT9J',\n",
       " '6ASKK6Z02NSW',\n",
       " '7KQVTYFQFYCK',\n",
       " '2PW0J8W3NSUG',\n",
       " '1LXS0G831RPD',\n",
       " '1V0L1FQEPUEE',\n",
       " '2NVKX244PVU4',\n",
       " '4IOS0G4ETCVO',\n",
       " '7B9JAM344KBQ',\n",
       " '68ZKC66CFHWP',\n",
       " '34HTKPCNI7NB',\n",
       " '5OM1C3SY1GO6',\n",
       " '77BX72FGKC4M',\n",
       " '5KWUNXQ6JN5X',\n",
       " '2OJQKN4QLKG8',\n",
       " '2V6P7N9Y5ZPX',\n",
       " '0Z4AV82LCGBT']"
      ]
     },
     "metadata": {},
     "execution_count": 17
    }
   ],
   "source": [
    "codelist"
   ]
  },
  {
   "cell_type": "code",
   "execution_count": null,
   "metadata": {
    "tags": [
     "outputPrepend"
    ]
   },
   "outputs": [],
   "source": [
    "# Data Headers\n",
    "WLMTData = [[\"Product_code\",\"Product_name\", \"Product_description\",\"Product_URL\",\n",
    "             \"Breadcrumb_parent\",\"Breadcrumb_active\",\n",
    "            \"Product_price\", \"Rating_Value\",\"Rating_Count\"]]\n",
    "\n",
    "\n",
    "for i in range(len(codelist)):\n",
    "    #creating a list without the place taken in the first loop\n",
    "    print(i)\n",
    "    item_wlmt=codelist[i]\n",
    "    url2=url1+\"/\"+item_wlmt\n",
    "    #print(url2)\n",
    "    \n",
    "    try:\n",
    "        driver= Safari()\n",
    "        print (\"Requesting URL: \" + url2)\n",
    "\n",
    "        driver.get(url2)   # URL requested in browser.\n",
    "        print (\"Webpage found ...\")\n",
    "        time.sleep(5)\n",
    "        # Find the document body and get its inner HTML for processing in BeautifulSoup parser.\n",
    "        body = driver.find_element_by_tag_name(\"body\").get_attribute(\"innerHTML\")\n",
    "        print(\"Closing Chrome ...\") # No more usage needed.\n",
    "        driver.quit() \t\t\t\t# Browser Closed.\n",
    "\n",
    "        print(\"Getting data from DOM ...\")\n",
    "        soupBody = BeautifulSoup(body) # Parse the inner HTML using BeautifulSoup\n",
    "        #print(soupBody)\n",
    "        \n",
    "        h1ProductName = soupBody.find(\"h1\", {\"class\": \"prod-ProductTitle prod-productTitle-buyBox font-bold\"})\n",
    "        divProductDesc = soupBody.find(\"div\", {\"class\": \"about-desc about-product-description xs-margin-top\"})\n",
    "        liProductBreadcrumb_parent = soupBody.find(\"li\", {\"data-automation-id\": \"breadcrumb-item-0\"})\n",
    "        #spanProductBreadcrumb_l1 = soupBody.find(\"li\", {\"data-automation-id\": \"breadcrumb-item-1\"})\n",
    "        liProductBreadcrumb_active = soupBody.find(\"li\", {\"class\": \"breadcrumb active\"})\n",
    "        spanProductPrice = soupBody.find(\"span\", {\"class\": \"price-group\"})\n",
    "        spanProductRating = soupBody.find(\"span\", {\"itemprop\": \"ratingValue\"})\n",
    "        spanProductRating_count = soupBody.find(\"span\", {\"class\": \"stars-reviews-count-node\"})\n",
    "        \n",
    "        if spanProductRating is None or spanProductRating_count is None:\n",
    "            spanProductRating=0.0\n",
    "            spanProductRating_count=\"0 ratings\"\n",
    "        #print(spanProductBreadcrumb_active.text)\n",
    "        else:\n",
    "            spanProductRating=spanProductRating.text\n",
    "            spanProductRating_count=spanProductRating_count.text\n",
    "        \n",
    "        \n",
    "#         ### Recommended Products\n",
    "#         recommended_prods=soupBody.find_all('a', href=True)\n",
    "        \n",
    "#         for a in recommended_prods:\n",
    "#             print (\"Found the URL:\", a['href'])\n",
    "        \n",
    "\n",
    "        WLMTData.append([codelist[i],h1ProductName.text, divProductDesc.text,url2,\n",
    "                         liProductBreadcrumb_parent.text,liProductBreadcrumb_active.text,\n",
    "                        spanProductPrice.text,spanProductRating,spanProductRating_count])\n",
    "\n",
    "        \n",
    "\n",
    "\n",
    "    except Exception as e:\n",
    "        print (str(e))\n",
    "\n",
    "#WLMTData        "
   ]
  },
  {
   "cell_type": "code",
   "execution_count": null,
   "metadata": {},
   "outputs": [],
   "source": [
    "df=pd.DataFrame(WLMTData)\n",
    "df.columns = df.iloc[0]\n",
    "df=df.drop(df.index[0])\n",
    "df\n",
    "\n",
    "# Output File for FlightsData. This file will have the data in comma separated form.\n",
    "df.to_csv('out_TVs.csv',index=False)"
   ]
  },
  {
   "cell_type": "code",
   "execution_count": null,
   "metadata": {},
   "outputs": [],
   "source": [
    "df"
   ]
  },
  {
   "cell_type": "code",
   "execution_count": null,
   "metadata": {},
   "outputs": [],
   "source": []
  }
 ]
}